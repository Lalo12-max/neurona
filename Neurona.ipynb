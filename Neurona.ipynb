{
 "cells": [
  {
   "cell_type": "code",
   "execution_count": null,
   "id": "ddfdfb02-1430-4e51-8fb5-3659aefb1115",
   "metadata": {},
   "outputs": [
    {
     "ename": "",
     "evalue": "",
     "output_type": "error",
     "traceback": [
      "\u001b[1;31mRunning cells with 'venv_ets (Python 3.12.6)' requires the ipykernel package.\n",
      "\u001b[1;31mInstall 'ipykernel' into the Python environment. \n",
      "\u001b[1;31mCommand: 'c:/Users/USER/Downloads/ETS/venv_ets/Scripts/python.exe -m pip install ipykernel -U --force-reinstall'"
     ]
    }
   ],
   "source": [
    "# Importar las librerías necesarias\n",
    "import tensorflow as tf\n",
    "import numpy as np\n"
   ]
  },
  {
   "cell_type": "code",
   "execution_count": null,
   "id": "affde8c1-a7ab-425b-8ce5-02f0b3e55416",
   "metadata": {},
   "outputs": [],
   "source": [
    "# Datos de entrenamiento: 7 ejemplos de Celsius y Fahrenheit\n",
    "celsius = np.array([-40, -10, 0, 8, 15, 22, 38], dtype=float)\n",
    "fahrenheit = np.array([-40, 14, 32, 46, 59, 72, 100], dtype=float)\n"
   ]
  },
  {
   "cell_type": "code",
   "execution_count": null,
   "id": "aba53ac8-759a-4a49-8ba4-431844390433",
   "metadata": {},
   "outputs": [],
   "source": [
    "# Diseñar el modelo de red neuronal\n",
    "# Capa densa con 1 neurona de salida y 1 neurona de entrada\n",
    "capa = tf.keras.layers.Dense(units=1, input_shape=[1])\n"
   ]
  },
  {
   "cell_type": "code",
   "execution_count": null,
   "id": "e0999495-ff6b-4274-b8ac-ba1cd44e5f1a",
   "metadata": {},
   "outputs": [],
   "source": [
    "# Crear el modelo secuencial\n",
    "modelo = tf.keras.Sequential([capa])\n"
   ]
  },
  {
   "cell_type": "code",
   "execution_count": null,
   "id": "5f3f96e4-fd5d-402d-9f5c-b7f4c1cd2ab8",
   "metadata": {},
   "outputs": [],
   "source": [
    "# Compilar el modelo\n",
    "# Optimizador Adam con tasa de aprendizaje de 0.1\n",
    "# Función de pérdida: Error Cuadrático Medio (MSE)\n",
    "modelo.compile(\n",
    "    optimizer=tf.keras.optimizers.Adam(0.1),\n",
    "    loss='mean_squared_error'\n",
    ")\n"
   ]
  },
  {
   "cell_type": "code",
   "execution_count": null,
   "id": "88c3d0fc-cdbe-45ef-9b9d-bb76275bc274",
   "metadata": {},
   "outputs": [],
   "source": [
    "# Entrenar el modelo\n",
    "# 1000 épocas (vueltas) con los datos\n",
    "# verbose=False para no imprimir el progreso\n",
    "print(\"Comenzando entrenamiento...\")\n",
    "historial = modelo.fit(celsius, fahrenheit, epochs=1000, verbose=False)\n",
    "print(\"Modelo entrenado!\")\n"
   ]
  },
  {
   "cell_type": "code",
   "execution_count": null,
   "id": "f9275aef-400f-4465-bfd6-f1d5a15d0a45",
   "metadata": {},
   "outputs": [],
   "source": [
    "# Ver el progreso del entrenamiento (función de pérdida)\n",
    "import matplotlib.pyplot as plt\n",
    "plt.xlabel(\"# Época\")\n",
    "plt.ylabel(\"Magnitud de pérdida\")\n",
    "plt.plot(historial.history[\"loss\"])\n",
    "plt.show()\n"
   ]
  },
  {
   "cell_type": "code",
   "execution_count": null,
   "id": "4231b7bc-5037-407a-841a-742af0b4b868",
   "metadata": {},
   "outputs": [],
   "source": [
    "print(\"\\nHagamos una predicción:\")\n",
    "resultado = modelo.predict(np.array([[100.0]]))\n",
    "print(f\"100 grados Celsius son aproximadamente {resultado[0][0]:.2f} °F\")\n",
    "print(f\"(El valor real es 212°F)\")\n"
   ]
  },
  {
   "cell_type": "code",
   "execution_count": null,
   "id": "21677b8c-f35c-47be-9fc5-40290a6c17b1",
   "metadata": {},
   "outputs": [],
   "source": [
    "# Ver los pesos y sesgos aprendidos\n",
    "print(\"\\nVariables internas del modelo:\")\n",
    "print(f\"Peso de la conexión: {capa.get_weights()[0][0][0]:.2f}\")\n",
    "print(f\"Sesgo: {capa.get_weights()[1][0]:.2f}\")\n",
    "print(\"\\n(La fórmula real es: F = C × 1.8 + 32)\")\n"
   ]
  },
  {
   "cell_type": "code",
   "execution_count": null,
   "id": "fa469517-fccb-41ac-9e8e-92a8ad452bc3",
   "metadata": {},
   "outputs": [],
   "source": [
    "# ============================================\n",
    "# EJEMPLO CON RED MÁS COMPLEJA\n",
    "# ============================================\n",
    "print(\"\\n\\n--- Red neuronal más compleja ---\")\n"
   ]
  },
  {
   "cell_type": "code",
   "execution_count": null,
   "id": "fef74e39-e1cd-4921-91ed-904cfd7b0abb",
   "metadata": {},
   "outputs": [],
   "source": [
    "# Red con capas ocultas\n",
    "oculta1 = tf.keras.layers.Dense(units=3, input_shape=[1])\n",
    "oculta2 = tf.keras.layers.Dense(units=3)\n",
    "salida = tf.keras.layers.Dense(units=1)\n"
   ]
  },
  {
   "cell_type": "code",
   "execution_count": null,
   "id": "4dd2cd88-ae5e-4598-9e91-ae155fb1cee8",
   "metadata": {},
   "outputs": [],
   "source": [
    "modelo_complejo = tf.keras.Sequential([oculta1, oculta2, salida])\n"
   ]
  },
  {
   "cell_type": "code",
   "execution_count": null,
   "id": "09aab744-f1c0-48fa-b5b0-21dfcac8a96c",
   "metadata": {},
   "outputs": [],
   "source": [
    "modelo_complejo.compile(\n",
    "    optimizer=tf.keras.optimizers.Adam(0.1),\n",
    "    loss='mean_squared_error'\n",
    ")\n"
   ]
  },
  {
   "cell_type": "code",
   "execution_count": null,
   "id": "40ddc0f1-db37-407d-a5b8-a9837cf8dbcb",
   "metadata": {},
   "outputs": [],
   "source": [
    "print(\"Entrenando modelo complejo...\")\n",
    "historial2 = modelo_complejo.fit(celsius, fahrenheit, epochs=1000, verbose=False)\n",
    "print(\"Modelo complejo entrenado!\")\n"
   ]
  },
  {
   "cell_type": "code",
   "execution_count": null,
   "id": "8af4ff46-b2b8-4a17-96d7-0532af3aeb5e",
   "metadata": {},
   "outputs": [],
   "source": [
    "# Predicción con modelo complejo\n",
    "resultado2 = modelo_complejo.predict(np.array([[100.0]]))\n",
    "print(f\"\\n100 grados Celsius = {resultado2[0][0]:.2f} grados Fahrenheit\")\n",
    "\n"
   ]
  },
  {
   "cell_type": "code",
   "execution_count": null,
   "id": "a4bd92aa-5a2b-49f3-ab79-4c6f8fa12db1",
   "metadata": {},
   "outputs": [],
   "source": [
    "# Variables internas (serán muchos números complejos)\n",
    "print(\"\\nVariables internas del modelo complejo:\")\n",
    "print(\"Capa oculta 1:\")\n",
    "print(oculta1.get_weights())\n",
    "print(\"\\nCapa oculta 2:\")\n",
    "print(oculta2.get_weights())\n",
    "print(\"\\nCapa de salida:\")\n",
    "print(salida.get_weights())"
   ]
  }
 ],
 "metadata": {
  "kernelspec": {
   "display_name": "venv_ets",
   "language": "python",
   "name": "python3"
  },
  "language_info": {
   "codemirror_mode": {
    "name": "ipython",
    "version": 3
   },
   "file_extension": ".py",
   "mimetype": "text/x-python",
   "name": "python",
   "nbconvert_exporter": "python",
   "pygments_lexer": "ipython3",
   "version": "3.12.6"
  }
 },
 "nbformat": 4,
 "nbformat_minor": 5
}
